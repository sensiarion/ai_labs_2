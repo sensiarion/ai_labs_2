{
 "cells": [
  {
   "cell_type": "markdown",
   "metadata": {},
   "source": [
    "# Лабораторная работа №5.\n",
    "## Catboost. Градиентный бустинг"
   ]
  },
  {
   "cell_type": "markdown",
   "metadata": {},
   "source": [
    "В достаточной степени подробно о градиентном бустинге описано в статье:\n",
    "* https://habr.com/ru/company/ods/blog/327250/\n",
    "\n",
    "Документация Catboost доступна по ссылке:\n",
    "* https://tech.yandex.ru/catboost/"
   ]
  },
  {
   "cell_type": "code",
   "execution_count": 2,
   "metadata": {},
   "outputs": [
    {
     "name": "stdout",
     "output_type": "stream",
     "text": [
      "Requirement already satisfied: catboost in c:\\users\\apc\\appdata\\local\\programs\\python\\python36\\lib\\site-packages (0.14.2)\n",
      "Requirement already satisfied: numpy>=1.11.1 in c:\\users\\apc\\appdata\\local\\programs\\python\\python36\\lib\\site-packages (from catboost) (1.16.1)\n",
      "Requirement already satisfied: six in c:\\users\\apc\\appdata\\local\\programs\\python\\python36\\lib\\site-packages (from catboost) (1.11.0)\n",
      "Requirement already satisfied: pandas>=0.19.1 in c:\\users\\apc\\appdata\\local\\programs\\python\\python36\\lib\\site-packages (from catboost) (0.23.4)\n",
      "Requirement already satisfied: enum34 in c:\\users\\apc\\appdata\\local\\programs\\python\\python36\\lib\\site-packages (from catboost) (1.1.6)\n",
      "Requirement already satisfied: graphviz in c:\\users\\apc\\appdata\\local\\programs\\python\\python36\\lib\\site-packages (from catboost) (0.10.1)\n",
      "Requirement already satisfied: pytz>=2011k in c:\\users\\apc\\appdata\\local\\programs\\python\\python36\\lib\\site-packages (from pandas>=0.19.1->catboost) (2018.7)\n",
      "Requirement already satisfied: python-dateutil>=2.5.0 in c:\\users\\apc\\appdata\\local\\programs\\python\\python36\\lib\\site-packages (from pandas>=0.19.1->catboost) (2.7.5)\n"
     ]
    },
    {
     "name": "stderr",
     "output_type": "stream",
     "text": [
      "You are using pip version 19.0.2, however version 19.1.1 is available.\n",
      "You should consider upgrading via the 'python -m pip install --upgrade pip' command.\n"
     ]
    }
   ],
   "source": [
    "!pip install catboost"
   ]
  },
  {
   "cell_type": "code",
   "execution_count": 46,
   "metadata": {},
   "outputs": [],
   "source": [
    "import numpy as np\n",
    "import pandas as pd\n",
    "import catboost as cb\n",
    "import seaborn as sns\n",
    "import matplotlib.pyplot as plt\n",
    "\n",
    "%matplotlib inline"
   ]
  },
  {
   "cell_type": "code",
   "execution_count": 47,
   "metadata": {},
   "outputs": [
    {
     "data": {
      "text/plain": [
       "(150, 5)"
      ]
     },
     "execution_count": 47,
     "metadata": {},
     "output_type": "execute_result"
    }
   ],
   "source": [
    "iris = sns.load_dataset('iris')\n",
    "iris.shape"
   ]
  },
  {
   "cell_type": "code",
   "execution_count": 48,
   "metadata": {},
   "outputs": [
    {
     "data": {
      "text/html": [
       "<div>\n",
       "<style scoped>\n",
       "    .dataframe tbody tr th:only-of-type {\n",
       "        vertical-align: middle;\n",
       "    }\n",
       "\n",
       "    .dataframe tbody tr th {\n",
       "        vertical-align: top;\n",
       "    }\n",
       "\n",
       "    .dataframe thead th {\n",
       "        text-align: right;\n",
       "    }\n",
       "</style>\n",
       "<table border=\"1\" class=\"dataframe\">\n",
       "  <thead>\n",
       "    <tr style=\"text-align: right;\">\n",
       "      <th></th>\n",
       "      <th>sepal_length</th>\n",
       "      <th>sepal_width</th>\n",
       "      <th>petal_length</th>\n",
       "      <th>petal_width</th>\n",
       "      <th>species</th>\n",
       "    </tr>\n",
       "  </thead>\n",
       "  <tbody>\n",
       "    <tr>\n",
       "      <th>0</th>\n",
       "      <td>5.1</td>\n",
       "      <td>3.5</td>\n",
       "      <td>1.4</td>\n",
       "      <td>0.2</td>\n",
       "      <td>setosa</td>\n",
       "    </tr>\n",
       "    <tr>\n",
       "      <th>1</th>\n",
       "      <td>4.9</td>\n",
       "      <td>3.0</td>\n",
       "      <td>1.4</td>\n",
       "      <td>0.2</td>\n",
       "      <td>setosa</td>\n",
       "    </tr>\n",
       "    <tr>\n",
       "      <th>2</th>\n",
       "      <td>4.7</td>\n",
       "      <td>3.2</td>\n",
       "      <td>1.3</td>\n",
       "      <td>0.2</td>\n",
       "      <td>setosa</td>\n",
       "    </tr>\n",
       "    <tr>\n",
       "      <th>3</th>\n",
       "      <td>4.6</td>\n",
       "      <td>3.1</td>\n",
       "      <td>1.5</td>\n",
       "      <td>0.2</td>\n",
       "      <td>setosa</td>\n",
       "    </tr>\n",
       "    <tr>\n",
       "      <th>4</th>\n",
       "      <td>5.0</td>\n",
       "      <td>3.6</td>\n",
       "      <td>1.4</td>\n",
       "      <td>0.2</td>\n",
       "      <td>setosa</td>\n",
       "    </tr>\n",
       "  </tbody>\n",
       "</table>\n",
       "</div>"
      ],
      "text/plain": [
       "   sepal_length  sepal_width  petal_length  petal_width species\n",
       "0           5.1          3.5           1.4          0.2  setosa\n",
       "1           4.9          3.0           1.4          0.2  setosa\n",
       "2           4.7          3.2           1.3          0.2  setosa\n",
       "3           4.6          3.1           1.5          0.2  setosa\n",
       "4           5.0          3.6           1.4          0.2  setosa"
      ]
     },
     "execution_count": 48,
     "metadata": {},
     "output_type": "execute_result"
    }
   ],
   "source": [
    "iris.head() # четыре признака: sepal_length, sepal_width, petal_length, petal_width"
   ]
  },
  {
   "cell_type": "code",
   "execution_count": 49,
   "metadata": {},
   "outputs": [
    {
     "data": {
      "text/plain": [
       "array(['setosa', 'versicolor', 'virginica'], dtype=object)"
      ]
     },
     "execution_count": 49,
     "metadata": {},
     "output_type": "execute_result"
    }
   ],
   "source": [
    "pd.unique(iris.species) # классы, которые нужно предсказать"
   ]
  },
  {
   "cell_type": "markdown",
   "metadata": {},
   "source": [
    "### Задание 1\n",
    "Преобразуйте метки классов колонки species в численный вид. Просмотрите датасет, постройте графики (гистограммы, зависимости) и очистите его от дубликатов и пустых строк, если таковые имеются."
   ]
  },
  {
   "cell_type": "code",
   "execution_count": 50,
   "metadata": {},
   "outputs": [
    {
     "data": {
      "text/html": [
       "<div>\n",
       "<style scoped>\n",
       "    .dataframe tbody tr th:only-of-type {\n",
       "        vertical-align: middle;\n",
       "    }\n",
       "\n",
       "    .dataframe tbody tr th {\n",
       "        vertical-align: top;\n",
       "    }\n",
       "\n",
       "    .dataframe thead th {\n",
       "        text-align: right;\n",
       "    }\n",
       "</style>\n",
       "<table border=\"1\" class=\"dataframe\">\n",
       "  <thead>\n",
       "    <tr style=\"text-align: right;\">\n",
       "      <th></th>\n",
       "      <th>sepal_length</th>\n",
       "      <th>sepal_width</th>\n",
       "      <th>petal_length</th>\n",
       "      <th>petal_width</th>\n",
       "      <th>species</th>\n",
       "    </tr>\n",
       "  </thead>\n",
       "  <tbody>\n",
       "    <tr>\n",
       "      <th>0</th>\n",
       "      <td>5.1</td>\n",
       "      <td>3.5</td>\n",
       "      <td>1.4</td>\n",
       "      <td>0.2</td>\n",
       "      <td>0</td>\n",
       "    </tr>\n",
       "    <tr>\n",
       "      <th>1</th>\n",
       "      <td>4.9</td>\n",
       "      <td>3.0</td>\n",
       "      <td>1.4</td>\n",
       "      <td>0.2</td>\n",
       "      <td>0</td>\n",
       "    </tr>\n",
       "    <tr>\n",
       "      <th>2</th>\n",
       "      <td>4.7</td>\n",
       "      <td>3.2</td>\n",
       "      <td>1.3</td>\n",
       "      <td>0.2</td>\n",
       "      <td>0</td>\n",
       "    </tr>\n",
       "  </tbody>\n",
       "</table>\n",
       "</div>"
      ],
      "text/plain": [
       "   sepal_length  sepal_width  petal_length  petal_width  species\n",
       "0           5.1          3.5           1.4          0.2        0\n",
       "1           4.9          3.0           1.4          0.2        0\n",
       "2           4.7          3.2           1.3          0.2        0"
      ]
     },
     "execution_count": 50,
     "metadata": {},
     "output_type": "execute_result"
    }
   ],
   "source": [
    "from sklearn.preprocessing import LabelEncoder\n",
    "enc = LabelEncoder()\n",
    "iris.species = enc.fit_transform(iris.species)\n",
    "iris.head(3)"
   ]
  },
  {
   "cell_type": "markdown",
   "metadata": {},
   "source": [
    "### Задание 2\n",
    "Получите новые бинарные признаки, например: постройте график зависимости iris.sepal_length от iris.sepal_width и окрасьте точки в зависимости от iris.species. Мы видим, что один класс можно легко выделить, если взять iris.sepal_length < 6 и iris.sepal_width > 3. Создайте 5 бинарных признаков."
   ]
  },
  {
   "cell_type": "code",
   "execution_count": 51,
   "metadata": {},
   "outputs": [
    {
     "data": {
      "image/png": "[encoded data removed]",
      "text/plain": [
       "<Figure size 432x288 with 2 Axes>"
      ]
     },
     "metadata": {
      "needs_background": "light"
     },
     "output_type": "display_data"
    }
   ],
   "source": [
    "fig,ax = plt.subplots(1,2)\n",
    "ax[0].scatter(iris.sepal_width, iris.sepal_length, c=iris.species)\n",
    "ax[0].set_ylabel('sepal length')\n",
    "ax[0].set_xlabel('sepal width')\n",
    "\n",
    "ax[1].scatter(iris.petal_width, iris.petal_length, c=iris.species)\n",
    "ax[1].set_ylabel('petal length')\n",
    "ax[1].set_xlabel('petal width')\n",
    "\n",
    "plt.show()"
   ]
  },
  {
   "cell_type": "code",
   "execution_count": 60,
   "metadata": {},
   "outputs": [],
   "source": [
    "iris['petal_small'] = (iris.petal_width<1) & (iris.petal_length < 2)\n",
    "iris['petal_medium'] = (iris.petal_length>2.5) & (iris.petal_length < 5)\n",
    "iris['petal_big'] = (iris.petal_length > 5) & (iris.petal_width > 1.5)\n",
    "iris['sepal_small'] = (iris.sepal_width > 2.5) & (iris.sepal_length < 5.5)\n",
    "iris['sepal_medium'] = iris.petal_length > 5.5"
   ]
  },
  {
   "cell_type": "markdown",
   "metadata": {},
   "source": [
    "### Задание 3\n",
    "По ссылке https://catboost.ai/docs/concepts/python-usages-examples.html изучите возможности применения catboost.\n",
    "* Создайте модель Catboost.Classifier\n",
    "* Перемешайте данные\n",
    "* Отберите 10 % данных для валидации\n",
    "* Создайте объекты Pool для классификационных данных и валидационных, заполните cat_features индексами бинарных признаков \n",
    "* Выберите функцию ошибки для данной задачи, объясните свой выбор\n",
    "* Обучите модель и оцените ошибку на валидационных данных, объясните результат"
   ]
  },
  {
   "cell_type": "code",
   "execution_count": 85,
   "metadata": {},
   "outputs": [
    {
     "name": "stdout",
     "output_type": "stream",
     "text": [
      "0:\tlearn: -1.0578815\ttotal: 32.1ms\tremaining: 609ms\n",
      "1:\tlearn: -1.0246299\ttotal: 60.4ms\tremaining: 544ms\n",
      "2:\tlearn: -0.9901162\ttotal: 78ms\tremaining: 442ms\n",
      "3:\tlearn: -0.9577114\ttotal: 105ms\tremaining: 420ms\n",
      "4:\tlearn: -0.9267497\ttotal: 133ms\tremaining: 399ms\n",
      "5:\tlearn: -0.8957931\ttotal: 149ms\tremaining: 348ms\n",
      "6:\tlearn: -0.8679272\ttotal: 165ms\tremaining: 307ms\n",
      "7:\tlearn: -0.8414590\ttotal: 192ms\tremaining: 288ms\n",
      "8:\tlearn: -0.8131426\ttotal: 224ms\tremaining: 274ms\n",
      "9:\tlearn: -0.7894014\ttotal: 261ms\tremaining: 261ms\n",
      "10:\tlearn: -0.7683429\ttotal: 290ms\tremaining: 237ms\n",
      "11:\tlearn: -0.7457379\ttotal: 316ms\tremaining: 211ms\n",
      "12:\tlearn: -0.7263071\ttotal: 344ms\tremaining: 185ms\n",
      "13:\tlearn: -0.7055082\ttotal: 371ms\tremaining: 159ms\n",
      "14:\tlearn: -0.6875988\ttotal: 398ms\tremaining: 133ms\n",
      "15:\tlearn: -0.6696383\ttotal: 430ms\tremaining: 107ms\n",
      "16:\tlearn: -0.6525187\ttotal: 452ms\tremaining: 79.7ms\n",
      "17:\tlearn: -0.6341300\ttotal: 483ms\tremaining: 53.7ms\n",
      "18:\tlearn: -0.6172449\ttotal: 512ms\tremaining: 26.9ms\n",
      "19:\tlearn: -0.6008669\ttotal: 532ms\tremaining: 0us\n"
     ]
    }
   ],
   "source": [
    "from catboost import CatBoostClassifier, Pool\n",
    "from sklearn.model_selection import train_test_split\n",
    "\n",
    "cl = CatBoostClassifier(iterations=20, loss_function='MultiClass')\n",
    "\n",
    "train,test = train_test_split(iris, shuffle=True, test_size=0.1)\n",
    "\n",
    "data = Pool(data=train.drop(columns=['species']),cat_features=[4,5,6,7,8], label=train.species)\n",
    "\n",
    "cl.fit(data)\n",
    "predict = cl.predict(data)"
   ]
  },
  {
   "cell_type": "markdown",
   "metadata": {},
   "source": [
    "В данном случае не стоит какой-то конкретной задачи для итоговой модели, поэтому посмотрим на основные метрики с помощью sklearn classification report"
   ]
  },
  {
   "cell_type": "code",
   "execution_count": 86,
   "metadata": {},
   "outputs": [
    {
     "name": "stdout",
     "output_type": "stream",
     "text": [
      "              precision    recall  f1-score   support\n",
      "\n",
      "      setosa       1.00      1.00      1.00         5\n",
      "  versicolor       0.86      1.00      0.92         6\n",
      "   virginica       1.00      0.75      0.86         4\n",
      "\n",
      "   micro avg       0.93      0.93      0.93        15\n",
      "   macro avg       0.95      0.92      0.93        15\n",
      "weighted avg       0.94      0.93      0.93        15\n",
      "\n"
     ]
    }
   ],
   "source": [
    "from sklearn.metrics import classification_report,accuracy_score\n",
    "\n",
    "test_pred = cl.predict(test.drop(columns=['species']))\n",
    "test_y = test.species\n",
    "\n",
    "print(classification_report(test_y, test_pred, target_names=enc.classes_))"
   ]
  },
  {
   "cell_type": "markdown",
   "metadata": {},
   "source": [
    "По метрикам можно увидеть отставание полноты для класса virginica, что обусловлено сложность её отделения от класса versicolor (хорошо прослеживается на графиках), но в целом получился довольно хороший результат по точности"
   ]
  },
  {
   "cell_type": "code",
   "execution_count": null,
   "metadata": {},
   "outputs": [],
   "source": []
  }
 ],
 "metadata": {
  "kernelspec": {
   "display_name": "Python 3",
   "language": "python",
   "name": "python3"
  },
  "language_info": {
   "codemirror_mode": {
    "name": "ipython",
    "version": 3
   },
   "file_extension": ".py",
   "mimetype": "text/x-python",
   "name": "python",
   "nbconvert_exporter": "python",
   "pygments_lexer": "ipython3",
   "version": "3.6.7"
  }
 },
 "nbformat": 4,
 "nbformat_minor": 2
}
